{
 "cells": [
  {
   "cell_type": "code",
   "execution_count": 16,
   "metadata": {},
   "outputs": [],
   "source": [
    "import numpy as np\n",
    "import matplotlib.pyplot as plt"
   ]
  },
  {
   "attachments": {},
   "cell_type": "markdown",
   "metadata": {},
   "source": [
    "# Linear regression\n"
   ]
  },
  {
   "cell_type": "code",
   "execution_count": 17,
   "metadata": {},
   "outputs": [],
   "source": [
    "m = 150\n",
    "X = 2 * np.random.rand(m, 1)\n",
    "y = 3 + 4*X + 1.5*np.random.randn(m, 1)"
   ]
  },
  {
   "cell_type": "code",
   "execution_count": 18,
   "metadata": {},
   "outputs": [
    {
     "data": {
      "image/png": "[encoded data removed]",
      "text/plain": [
       "<Figure size 640x480 with 1 Axes>"
      ]
     },
     "metadata": {},
     "output_type": "display_data"
    }
   ],
   "source": [
    "plt.plot(X, y, \"b.\")\n",
    "plt.xlabel('X', fontsize = 16)\n",
    "plt.ylabel('y', fontsize = 16, rotation = 0)\n",
    "plt.axis([0, 2, 0, 15])\n",
    "plt.grid(True)\n",
    "plt.show()"
   ]
  },
  {
   "attachments": {},
   "cell_type": "markdown",
   "metadata": {},
   "source": [
    "## Normal equation"
   ]
  },
  {
   "attachments": {},
   "cell_type": "markdown",
   "metadata": {},
   "source": [
    "$$ \\Theta = (X^TX)^{-1}X^ty $$"
   ]
  },
  {
   "attachments": {},
   "cell_type": "markdown",
   "metadata": {},
   "source": [
    "$$ \\widehat{y} = \\theta_0 + \\theta_{1} X_{1} + \\theta_{2} X_{2} + ... + \\theta_{n} X_{n}$$\n",
    "\n",
    "Donde $\\widehat{y} $ es la predicción, $\\theta$ es el \"peso\" y x es el ritmo de crecimiento de la dimensión correspondiente\n",
    "\n",
    "Matematicamente se presentan como una operación matricial\n",
    "\n",
    "$$\n",
    "\\begin{bmatrix}\n",
    "    1 & X_1^{(1)} \\\\\n",
    "    1 & X_1^{(2)}\n",
    "\\end{bmatrix}\n",
    "$$\n",
    "\n",
    "y\n",
    "\n",
    "$$\n",
    "\\begin{bmatrix}\n",
    "    \\theta_0 \\\\\n",
    "    \\theta_1\n",
    "\\end{bmatrix}\n",
    "$$"
   ]
  },
  {
   "cell_type": "code",
   "execution_count": 19,
   "metadata": {},
   "outputs": [
    {
     "data": {
      "text/plain": [
       "array([[1.        , 0.06120067],\n",
       "       [1.        , 1.17530967],\n",
       "       [1.        , 1.82582432],\n",
       "       [1.        , 1.19447241],\n",
       "       [1.        , 0.45425465],\n",
       "       [1.        , 1.47065652],\n",
       "       [1.        , 1.70059403],\n",
       "       [1.        , 1.25953258],\n",
       "       [1.        , 1.89239585],\n",
       "       [1.        , 0.74049402],\n",
       "       [1.        , 0.75759229],\n",
       "       [1.        , 1.03863726],\n",
       "       [1.        , 0.11127714],\n",
       "       [1.        , 1.43949391],\n",
       "       [1.        , 0.21744674],\n",
       "       [1.        , 1.40284222],\n",
       "       [1.        , 0.9169046 ],\n",
       "       [1.        , 0.7974074 ],\n",
       "       [1.        , 1.54261573],\n",
       "       [1.        , 1.19572909],\n",
       "       [1.        , 1.4818369 ],\n",
       "       [1.        , 0.12049574],\n",
       "       [1.        , 1.55534236],\n",
       "       [1.        , 0.83436899],\n",
       "       [1.        , 0.26072   ],\n",
       "       [1.        , 0.68559767],\n",
       "       [1.        , 1.20802004],\n",
       "       [1.        , 1.35006424],\n",
       "       [1.        , 1.66245947],\n",
       "       [1.        , 0.62190656],\n",
       "       [1.        , 1.25681937],\n",
       "       [1.        , 0.73582028],\n",
       "       [1.        , 1.91041316],\n",
       "       [1.        , 0.58958738],\n",
       "       [1.        , 1.1324109 ],\n",
       "       [1.        , 0.66277138],\n",
       "       [1.        , 1.58144858],\n",
       "       [1.        , 1.58203955],\n",
       "       [1.        , 0.30054306],\n",
       "       [1.        , 0.79854528],\n",
       "       [1.        , 1.36233028],\n",
       "       [1.        , 1.98593435],\n",
       "       [1.        , 1.49841241],\n",
       "       [1.        , 0.62101313],\n",
       "       [1.        , 0.67296643],\n",
       "       [1.        , 0.15834123],\n",
       "       [1.        , 0.19643061],\n",
       "       [1.        , 1.38061747],\n",
       "       [1.        , 0.44277207],\n",
       "       [1.        , 0.2862771 ],\n",
       "       [1.        , 0.51803281],\n",
       "       [1.        , 0.78819649],\n",
       "       [1.        , 1.48355864],\n",
       "       [1.        , 1.48749759],\n",
       "       [1.        , 1.08279145],\n",
       "       [1.        , 1.19560032],\n",
       "       [1.        , 1.67209489],\n",
       "       [1.        , 1.6404496 ],\n",
       "       [1.        , 0.21993262],\n",
       "       [1.        , 0.41480435],\n",
       "       [1.        , 1.53472041],\n",
       "       [1.        , 0.02845963],\n",
       "       [1.        , 1.30379458],\n",
       "       [1.        , 1.34806572],\n",
       "       [1.        , 1.51201824],\n",
       "       [1.        , 0.30585044],\n",
       "       [1.        , 0.33946405],\n",
       "       [1.        , 0.02978654],\n",
       "       [1.        , 1.34864664],\n",
       "       [1.        , 0.00356324],\n",
       "       [1.        , 1.48169911],\n",
       "       [1.        , 1.21503811],\n",
       "       [1.        , 0.74577762],\n",
       "       [1.        , 0.57413095],\n",
       "       [1.        , 0.05669467],\n",
       "       [1.        , 1.01166325],\n",
       "       [1.        , 1.69245555],\n",
       "       [1.        , 0.13373587],\n",
       "       [1.        , 1.86488265],\n",
       "       [1.        , 0.94712774],\n",
       "       [1.        , 1.95638699],\n",
       "       [1.        , 0.84172588],\n",
       "       [1.        , 1.33505969],\n",
       "       [1.        , 0.08199237],\n",
       "       [1.        , 0.33033521],\n",
       "       [1.        , 0.90851555],\n",
       "       [1.        , 0.73021492],\n",
       "       [1.        , 1.76869858],\n",
       "       [1.        , 1.3154386 ],\n",
       "       [1.        , 0.39111613],\n",
       "       [1.        , 1.70764637],\n",
       "       [1.        , 1.3332641 ],\n",
       "       [1.        , 0.16173699],\n",
       "       [1.        , 1.30024829],\n",
       "       [1.        , 0.59012164],\n",
       "       [1.        , 1.65629967],\n",
       "       [1.        , 1.36471408],\n",
       "       [1.        , 1.5315869 ],\n",
       "       [1.        , 0.78232859],\n",
       "       [1.        , 0.69284026],\n",
       "       [1.        , 1.76372699],\n",
       "       [1.        , 0.21380693],\n",
       "       [1.        , 1.49456837],\n",
       "       [1.        , 0.9228047 ],\n",
       "       [1.        , 1.71840561],\n",
       "       [1.        , 1.67782022],\n",
       "       [1.        , 1.57142239],\n",
       "       [1.        , 1.03077995],\n",
       "       [1.        , 0.70569781],\n",
       "       [1.        , 1.73915934],\n",
       "       [1.        , 1.89471714],\n",
       "       [1.        , 1.0028492 ],\n",
       "       [1.        , 0.69506619],\n",
       "       [1.        , 1.61237435],\n",
       "       [1.        , 0.45718443],\n",
       "       [1.        , 0.99635716],\n",
       "       [1.        , 0.32780344],\n",
       "       [1.        , 1.8129887 ],\n",
       "       [1.        , 0.34887506],\n",
       "       [1.        , 1.0450277 ],\n",
       "       [1.        , 0.73677045],\n",
       "       [1.        , 1.09833428],\n",
       "       [1.        , 0.19790101],\n",
       "       [1.        , 1.96623895],\n",
       "       [1.        , 1.66878932],\n",
       "       [1.        , 0.82367598],\n",
       "       [1.        , 0.37372455],\n",
       "       [1.        , 0.55622402],\n",
       "       [1.        , 1.20008508],\n",
       "       [1.        , 0.94121592],\n",
       "       [1.        , 0.44442145],\n",
       "       [1.        , 0.6926462 ],\n",
       "       [1.        , 1.6757694 ],\n",
       "       [1.        , 0.07306417],\n",
       "       [1.        , 1.97816094],\n",
       "       [1.        , 0.62233071],\n",
       "       [1.        , 0.01506605],\n",
       "       [1.        , 1.10669199],\n",
       "       [1.        , 1.6421244 ],\n",
       "       [1.        , 1.25705711],\n",
       "       [1.        , 0.45212767],\n",
       "       [1.        , 1.69469952],\n",
       "       [1.        , 0.37231425],\n",
       "       [1.        , 1.55574838],\n",
       "       [1.        , 1.14972958],\n",
       "       [1.        , 0.46822134],\n",
       "       [1.        , 1.5010353 ],\n",
       "       [1.        , 1.43692581],\n",
       "       [1.        , 0.91674669],\n",
       "       [1.        , 0.89190604]])"
      ]
     },
     "execution_count": 19,
     "metadata": {},
     "output_type": "execute_result"
    }
   ],
   "source": [
    "X_c = np.c_[np.ones((m, 1)), X]\n",
    "X_c"
   ]
  },
  {
   "cell_type": "code",
   "execution_count": 20,
   "metadata": {},
   "outputs": [
    {
     "name": "stdout",
     "output_type": "stream",
     "text": [
      "[[2.77654044]\n",
      " [4.02802673]]\n"
     ]
    }
   ],
   "source": [
    "theta_f = np.linalg.inv(X_c.T @ X_c) @ X_c.T @ y\n",
    "print(theta_f)"
   ]
  },
  {
   "cell_type": "code",
   "execution_count": 21,
   "metadata": {},
   "outputs": [
    {
     "name": "stdout",
     "output_type": "stream",
     "text": [
      "[[ 2.77654044]\n",
      " [22.91667407]]\n"
     ]
    }
   ],
   "source": [
    "X_new = np.array([[1, 0], [1,5]])\n",
    "y_predict = X_new @ theta_f\n",
    "print(y_predict)"
   ]
  },
  {
   "cell_type": "code",
   "execution_count": 22,
   "metadata": {},
   "outputs": [
    {
     "data": {
      "image/png": "[encoded data removed]",
      "text/plain": [
       "<Figure size 640x480 with 1 Axes>"
      ]
     },
     "metadata": {},
     "output_type": "display_data"
    }
   ],
   "source": [
    "plt.plot(X, y, \"b.\")\n",
    "plt.plot(X_new[:,1], y_predict, \"r--\")\n",
    "plt.xlabel('X', fontsize = 16)\n",
    "plt.ylabel('y', fontsize = 16, rotation = 0)\n",
    "plt.axis([0, 2, 0, 15])\n",
    "plt.grid(True)\n",
    "plt.show()"
   ]
  },
  {
   "cell_type": "code",
   "execution_count": null,
   "metadata": {},
   "outputs": [],
   "source": []
  }
 ],
 "metadata": {
  "kernelspec": {
   "display_name": "Python 3",
   "language": "python",
   "name": "python3"
  },
  "language_info": {
   "codemirror_mode": {
    "name": "ipython",
    "version": 3
   },
   "file_extension": ".py",
   "mimetype": "text/x-python",
   "name": "python",
   "nbconvert_exporter": "python",
   "pygments_lexer": "ipython3",
   "version": "3.11.1"
  },
  "orig_nbformat": 4,
  "vscode": {
   "interpreter": {
    "hash": "9da6cc33780894ff2185a164a2a119d335f9d52f75fdaf747e4ff3d3ca36c7c1"
   }
  }
 },
 "nbformat": 4,
 "nbformat_minor": 2
}
