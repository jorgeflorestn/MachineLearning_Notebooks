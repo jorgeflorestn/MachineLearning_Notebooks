{
 "cells": [
  {
   "cell_type": "code",
   "execution_count": 1,
   "metadata": {},
   "outputs": [],
   "source": [
    "import numpy as np\n",
    "import pandas as pd\n",
    "import matplotlib.pyplot as plt"
   ]
  },
  {
   "cell_type": "code",
   "execution_count": 7,
   "metadata": {},
   "outputs": [],
   "source": [
    "from sklearn import datasets\n",
    "\n",
    "#Importacion de un solo flujo de datos\n",
    "from sklearn.pipeline import Pipeline\n",
    "\n",
    "# El SVM es sensible a datos no escalados\n",
    "from sklearn.preprocessing import StandardScaler"
   ]
  },
  {
   "cell_type": "code",
   "execution_count": 9,
   "metadata": {},
   "outputs": [],
   "source": [
    "iris = datasets.load_iris()\n",
    "X = iris['data'][:, (2, 3)]\n",
    "y = (iris.target == 0) #setosa"
   ]
  },
  {
   "cell_type": "code",
   "execution_count": 17,
   "metadata": {},
   "outputs": [],
   "source": [
    "from sklearn.base import BaseEstimator\n",
    "\n",
    "class MyLinearStimator(BaseEstimator):\n",
    "    def __init__(self, c = 1, eta0 = 1, n_epochs = 1000, eta_d = 10000, random_state = None):\n",
    "        self.C = c\n",
    "        self.eta0 = eta0\n",
    "        self.n_epochs = n_epochs\n",
    "        self.etad = eta_d\n",
    "        self.random_state = random_state\n",
    "    \n",
    "    def eta(self, epoch):\n",
    "        return self.eta0 / (epoch + self.etad)\n",
    "    \n",
    "    def fit(self, X, y):\n",
    "        if self.random_state: np.random.seed(self.random_state)\n",
    "        w = np.random.randn(X.shape[1], 1)\n",
    "        b = 0\n",
    "        \n",
    "        t = np.array(y, dtype = np.float64).reshape(-1,1) * 2 - 1\n",
    "        \n",
    "        X_t = X * t\n",
    "        \n",
    "        self.Js = [] # Cost function log\n",
    "        \n",
    "        for epoch in range(self.n_epochs):\n",
    "            support_vectors_idx = (X_t.dot(w) + t * b <= 1).ravel()\n",
    "            X_t_sv = X_t[support_vectors_idx]\n",
    "            t_sv = t[support_vectors_idx]\n",
    "            \n",
    "            J = (1/2) * (w * w).sum() + self.C * ((1 - X_t_sv.dot(w) - b * t_sv).sum())\n",
    "            \n",
    "            self.Js.append(J)\n",
    "            \n",
    "            w_gradient_vector = w - self.C * X_t_sv.sum(axis = 0).reshape(-1, 1)\n",
    "            b_derivative = -self.C * t_sv.sum()\n",
    "            \n",
    "            w = w - self.eta(epoch) * w_gradient_vector\n",
    "            b = b - self.eta(epoch) * b_derivative\n",
    "        \n",
    "        self.intercept = np.array([b])\n",
    "        self.coef = np.array([b])\n",
    "        \n",
    "        support_vectors_idx = (X_t.dot(w) + t * b <= -1).ravel()\n",
    "        self.support_vectors = X[support_vectors_idx]\n",
    "        return self\n",
    "    \n",
    "    def decision_function(self, X):\n",
    "        return X.dot(self.coef_[0] + self.intercept[0])\n",
    "    \n",
    "    def predict(self, X):\n",
    "        return self.decision_function(X) >= 0;\n",
    "    "
   ]
  }
 ],
 "metadata": {
  "kernelspec": {
   "display_name": "Python 3",
   "language": "python",
   "name": "python3"
  },
  "language_info": {
   "codemirror_mode": {
    "name": "ipython",
    "version": 3
   },
   "file_extension": ".py",
   "mimetype": "text/x-python",
   "name": "python",
   "nbconvert_exporter": "python",
   "pygments_lexer": "ipython3",
   "version": "3.10.6"
  },
  "orig_nbformat": 4
 },
 "nbformat": 4,
 "nbformat_minor": 2
}
